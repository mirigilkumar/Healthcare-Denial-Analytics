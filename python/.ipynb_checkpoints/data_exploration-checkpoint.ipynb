{
 "cells": [
  {
   "cell_type": "markdown",
   "id": "0184b5e9-4c40-4642-908a-89d45ac44ce9",
   "metadata": {},
   "source": [
    "# 🏥 Healthcare Denial Analytics – Day 1: SQL Data Understanding\n",
    "\n",
    "**Goal:**  \n",
    "Explore and understand the healthcare claim denial dataset to identify trends, issues, and key performance metrics.\n",
    "\n",
    "---\n",
    "\n",
    "## 📘 1. Database Creation and Data Import\n",
    "\n",
    "```sql\n",
    "------------------------------------------------------------------\n",
    "-- Create Database & Use\n",
    "------------------------------------------------------------------\n",
    "CREATE DATABASE HealthcareDenialDB;\n",
    "GO\n",
    "USE HealthcareDenialDB;\n",
    "GO\n"
   ]
  },
  {
   "cell_type": "markdown",
   "id": "8babee11-851c-47a6-b68e-b658ff269043",
   "metadata": {},
   "source": [
    "## 📥 Data Import Steps (SQL Server Management Studio)\n",
    "\n",
    "- In SSMS → Right-click database → Tasks → Import Flat File\n",
    "\n",
    "- Select your CSV file: healthcare_denial_dataset.csv\n",
    "\n",
    "- Import into table ClaimDenialsr Management Studio (SSMS)**  \n"
   ]
  },
  {
   "cell_type": "markdown",
   "id": "12d16048-8093-4c96-a448-cf013aaf0d57",
   "metadata": {},
   "source": [
    "## 📊 2. Data Exploration\n",
    "```sql\n",
    "------------------------------------------------------------------\n",
    "-- Check if table loaded correctly\n",
    "------------------------------------------------------------------\n",
    "SELECT TOP 10 * \n",
    "FROM ClaimDenials;\n",
    "\n",
    "SELECT COUNT(*) AS Total_Claims  \n",
    "FROM ClaimDenials;\n",
    "GO\n",
    "```\n",
    "✅ **Purpose**: Validate that the dataset loaded correctly and contains expected rows."
   ]
  },
  {
   "cell_type": "markdown",
   "id": "02ce95d4-631b-4a38-8ef2-ad9ee91bf9bd",
   "metadata": {},
   "source": [
    "## 🧩 3. Data Quality Check\n",
    "```sql\n",
    "------------------------------------------------------------------\n",
    "-- Check for missing values\n",
    "------------------------------------------------------------------\n",
    "SELECT \n",
    "\tSUM(CASE WHEN Claim_ID  IS NULL THEN 1 ELSE 0 END) missing_claim_id,\n",
    "\tSUM(CASE WHEN Patient_ID IS NULL THEN 1 ELSE 0 END) missing_patient_id,\n",
    "\tSUM(CASE WHEN Denial_Flag = 1 AND Denial_Reason_Code IS NULL  THEN 1 ELSE 0 END) missing_denial\n",
    "FROM ClaimDenials;\n",
    "GO\n",
    "```\n",
    "✅ **Purpose**: Identify incomplete or missing key data fields."
   ]
  },
  {
   "cell_type": "markdown",
   "id": "59e50c2a-ad71-40be-856e-99a67b84ee22",
   "metadata": {},
   "source": [
    "## 📈 4. Key Summary Metrics\n",
    "\n",
    "```sql\n",
    "------------------------------------------------------------------\n",
    "-- Calculate core KPIs\n",
    "------------------------------------------------------------------\n",
    "SELECT \n",
    "\tCOUNT(*) AS Total_claims,\n",
    "\tSUM(CASE WHEN Denial_Flag = 1 THEN 1 ELSE 0 END) AS Denied_Claims,\n",
    "\tCAST(SUM(CASE WHEN Denial_Flag = 1 THEN 1 ELSE 0 END) * 100.0 / COUNT(*) AS DECIMAL(5,2)) AS [Denial_Rate %]\n",
    "FROM ClaimDenials;\n",
    "GO\n",
    "```\n",
    "\n",
    "✅ **Purpose**: Understand overall denial volume and percentage."
   ]
  },
  {
   "cell_type": "markdown",
   "id": "2185a0af-60bd-4778-8dd4-3eff32a6e1df",
   "metadata": {},
   "source": [
    "## 🏦 5. Denials Per Payer\n",
    "```sql\n",
    "------------------------------------------------------------------\n",
    "-- Denials Per Payer\n",
    "------------------------------------------------------------------\n",
    "SELECT \n",
    "\tPayer_Name, \n",
    "\tCOUNT(*) Total_Claims,\n",
    "\tSUM(CASE WHEN Denial_Flag = 1 THEN 1 ELSE 0 END) Denied_Claims,\n",
    "\tCAST(SUM(CASE WHEN Denial_Flag = 1 THEN 1 ELSE 0 END) * 100.0 / COUNT(*) AS DECIMAL(5,2)) [Denial_Rate_%] \n",
    "FROM ClaimDenials\n",
    "GROUP BY Payer_Name\n",
    "ORDER BY [Denial_Rate_%] DESC;\n",
    "GO\n",
    "```\n",
    "✅ **Purpose**: Identify which payers have the highest denial rates."
   ]
  },
  {
   "cell_type": "markdown",
   "id": "1740f3ac-2766-48d9-838f-9965300a5621",
   "metadata": {},
   "source": [
    "## 📋 6. Denials by Reasons\n",
    "```sql\n",
    "------------------------------------------------------------------\n",
    "-- Denials by Reasons\n",
    "------------------------------------------------------------------\n",
    "SELECT \n",
    "\tDenial_Reason_Code, \n",
    "\tDenial_Reason_Description, \n",
    "\tCOUNT(*) Denied_Claims\n",
    "FROM ClaimDenials\n",
    "WHERE Denial_Flag = 1\n",
    "GROUP BY Denial_Reason_Code, Denial_Reason_Description\n",
    "ORDER BY Denied_Claims DESC;\n",
    "GO\n",
    "```\n",
    "✅ **Purpose**: Discover the most frequent reasons for denials."
   ]
  },
  {
   "cell_type": "markdown",
   "id": "c8f8340c-a9bd-48fc-a963-db13aa703832",
   "metadata": {},
   "source": [
    "##  🗓️ 7. Trend Over Time\n",
    "```sql\n",
    "------------------------------------------------------------------\n",
    "-- Trend  Over Time\n",
    "------------------------------------------------------------------\n",
    "SELECT \n",
    "\tYEAR(Claim_Submission_Date) [Year], \n",
    "\tDATENAME(Month, Claim_Submission_Date) [Month],\n",
    "\tCOUNT(*) Total_Claims,\n",
    "\tSUM(CASE WHEN Denial_Flag =1 THEN 1 ELSE 0 END) Denial_claims,\n",
    "\tCAST(SUM(CASE WHEN Denial_Flag =1 THEN 1 ELSE 0 END) * 100.0 / COUNT(*) AS DECIMAL(5,2)) [Denial_%] \n",
    "FROM ClaimDenials\n",
    "GROUP BY \n",
    "\tYEAR(Claim_Submission_Date), \n",
    "\tMONTH(Claim_Submission_Date), \n",
    "\tDATENAME(Month, Claim_Submission_Date)\n",
    "ORDER BY \n",
    "\tYEAR(Claim_Submission_Date), \n",
    "\tMONTH(Claim_Submission_Date);\n",
    "GO\n",
    "```\n",
    "✅ **Purpose**: Track denial trends month-over-month to identify seasonal or systemic issues."
   ]
  },
  {
   "cell_type": "markdown",
   "id": "caf1ef6c-00e2-40d0-8fa7-05ce575859fd",
   "metadata": {},
   "source": [
    "## 📂 8. Claim Category Analysis\n",
    "```sql\n",
    "------------------------------------------------------------------\n",
    "-- Claim Category Analysis\n",
    "------------------------------------------------------------------\n",
    "SELECT \n",
    "\tClaim_Category, \n",
    "\tCOUNT(*) Total_claims,\n",
    "\tSUM(CASE WHEN Denial_Flag = 1 THEN 1 ELSE 0 END) Denied_Claims,\n",
    "\tCAST(SUM(CASE WHEN Denial_Flag = 1 THEN 1 ELSE 0 END) *100.0 /COUNT(*) AS DECIMAL(5,2)) [Denial_Rate_%]\n",
    "FROM ClaimDenials\n",
    "GROUP BY Claim_Category\n",
    "ORDER BY [Denial_Rate_%];\n",
    "GO\n",
    "```\n",
    "✅ **Purpose**: Understand which claim categories are most prone to denials."
   ]
  },
  {
   "cell_type": "markdown",
   "id": "3e1bbafb-29e1-4171-8296-06410465b12e",
   "metadata": {},
   "source": [
    "## ⏳ 9. Denial Age (A/R Days) Analysis\n",
    "```sql\n",
    "------------------------------------------------------------------\n",
    "-- Denial Age days Analysis\n",
    "------------------------------------------------------------------\n",
    "SELECT \n",
    "\tCAST(AVG(Denial_Age_Days) AS DECIMAL(5,2)) Average_Days,\n",
    "\tMAX(Denial_Age_Days) Maximum_AR_Days,\n",
    "\tMIN(Denial_Age_Days) Minimum_AR_Days\n",
    "FROM ClaimDenials\n",
    "WHERE Denial_Age_Days IS NOT NULL;\n",
    "GO\n",
    "```\n",
    "✅ **Purpose**: Evaluate how long denied claims take to resolve on average."
   ]
  },
  {
   "cell_type": "markdown",
   "id": "32a0f56c-33c3-4d13-a2d4-717fabf9abc9",
   "metadata": {},
   "source": [
    "## 🧠 10. Insight Summary\n",
    "\n",
    "| **Metric** | **Value** | **Key Insight** |\n",
    "|-------------|------------|-----------------|\n",
    "| Total Claims | 12,000 | Total claims processed |\n",
    "| Denied Claims | 1,450 | High-value volume of denials |\n",
    "| Denial Rate | 12.08% | Within expected benchmark |\n",
    "| Highest Denial Rate Payer | Blue Cross | Priority payer for root-cause analysis |\n",
    "| Top Denial Reason | CO-96 | Payment adjusted because of secondary coverage |\n",
    "| Claim Type Split | Professional: 8,329, Institutional: 3,671 | Majority are professional claims |\n",
    "| Avg A/R Days | 30 | Average time to resolve denials |\n"
   ]
  }
 ],
 "metadata": {
  "kernelspec": {
   "display_name": "Python 3 (ipykernel)",
   "language": "python",
   "name": "python3"
  },
  "language_info": {
   "codemirror_mode": {
    "name": "ipython",
    "version": 3
   },
   "file_extension": ".py",
   "mimetype": "text/x-python",
   "name": "python",
   "nbconvert_exporter": "python",
   "pygments_lexer": "ipython3",
   "version": "3.13.5"
  },
  "widgets": {
   "application/vnd.jupyter.widget-state+json": {
    "state": {},
    "version_major": 2,
    "version_minor": 0
   }
  }
 },
 "nbformat": 4,
 "nbformat_minor": 5
}
